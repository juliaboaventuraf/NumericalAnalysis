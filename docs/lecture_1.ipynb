{
 "cells": [
  {
   "cell_type": "markdown",
   "metadata": {},
   "source": [
    "# Lecture 1\n",
    "\n",
    "\n",
    "Welcome to the first lecture! \n",
    "\n",
    "Today, we will have a Julia introduction, covering the basics about project structure and tests. Furhtermore, we have hands-on tasks about Round-off Errors & Computer Arithmetic."
   ]
  },
  {
   "cell_type": "markdown",
   "metadata": {},
   "source": [
    "# References"
   ]
  },
  {
   "cell_type": "markdown",
   "metadata": {},
   "source": [
    "- [Creating a New Project](https://www.matecdev.com/posts/julia-create-project.html), by Martin D. Maas.\n",
    "\n",
    "-  Examples involving **Round-off Erros & Computer Arithmetic**  were drawn from the chapter 1.2 of the book [Numerical Analysis, by Richard L. Burden, J. Douglas Faires and Annette M. Burden](https://www.amazon.com/Numerical-Analysis-Richard-L-Burden/dp/1305253663). "
   ]
  },
  {
   "cell_type": "markdown",
   "metadata": {},
   "source": [
    "# Structure your project, avoid a mess!"
   ]
  },
  {
   "cell_type": "markdown",
   "metadata": {},
   "source": [
    "Enter the pkg mode and them type \"generate NumericalAnalysis\"\n",
    "\n",
    "$\\hspace{0.25cm}$ <font color=\"#2196F3\"> pkg> </font>   generate NumericalAnalysis\n",
    "\n",
    "Then, activate your envirorment:\n",
    "\n",
    "$\\hspace{0.25cm}$ <font color=\"#2196F3\"> pkg> </font>   activate ./NumericalAnalysis\n",
    "\n",
    "Now, add the \"Test\" package\n",
    "\n",
    "$\\hspace{0.25cm}$ <font color=\"#2196F3\"> pkg> </font>  add Test\n",
    "\n",
    "Check the folder structure: <font color=\"red\"> Manifest.toml </font> and <font color=\"red\"> Project.toml </font> were generated.\n",
    "\n",
    "\n",
    "We will also use the \"JuliaFormatter\" in order to format / organize our code.\n",
    "\n",
    "$\\hspace{0.25cm}$ <font color=\"#2196F3\"> pkg> </font>  add JuliaFormatter\n",
    "\n",
    "**Note:** Automated tests are important to verify if the code is running properly, and, most important, increases the safety of further changes in the code."
   ]
  },
  {
   "cell_type": "markdown",
   "metadata": {},
   "source": []
  }
 ],
 "metadata": {
  "kernelspec": {
   "display_name": "Julia 1.9.1",
   "language": "julia",
   "name": "julia-1.9"
  },
  "language_info": {
   "file_extension": ".jl",
   "mimetype": "application/julia",
   "name": "julia",
   "version": "1.9.1"
  }
 },
 "nbformat": 4,
 "nbformat_minor": 2
}
